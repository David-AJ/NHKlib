{
 "cells": [
  {
   "cell_type": "markdown",
   "metadata": {},
   "source": [
    "# 生成图的邻接矩阵占用内存情况"
   ]
  },
  {
   "cell_type": "markdown",
   "metadata": {},
   "source": [
    "### 导入相关库 "
   ]
  },
  {
   "cell_type": "code",
   "execution_count": 1,
   "metadata": {
    "collapsed": true
   },
   "outputs": [],
   "source": [
    "#!/usr/bin/python2.7\n",
    "# -*- coding:utf-8 -*-\n",
    "import numpy as np\n",
    "from scipy.spatial import distance as ds\n",
    "import datetime\n",
    "from NHKlib2 import *\n",
    "from sklearn.decomposition import KernelPCA,PCA\n",
    "import scipy.io as sio\n",
    "import os,sys,gc,psutil\n",
    "import scipy as sp\n",
    "\n",
    "process = psutil.Process(os.getpid())"
   ]
  },
  {
   "cell_type": "markdown",
   "metadata": {},
   "source": [
    "### 导入数据"
   ]
  },
  {
   "cell_type": "code",
   "execution_count": 2,
   "metadata": {
    "collapsed": true
   },
   "outputs": [],
   "source": [
    "matrix = sio.loadmat('matrix.mat')['matrix']"
   ]
  },
  {
   "cell_type": "code",
   "execution_count": 3,
   "metadata": {},
   "outputs": [
    {
     "name": "stdout",
     "output_type": "stream",
     "text": [
      "Please enter the size of window: 25\n"
     ]
    }
   ],
   "source": [
    "window = input(\"Please enter the size of window: \")"
   ]
  },
  {
   "cell_type": "markdown",
   "metadata": {},
   "source": [
    "### 生成一个图的邻接矩阵，并比较原始矩阵与稀疏矩阵的内存使用情况"
   ]
  },
  {
   "cell_type": "code",
   "execution_count": 4,
   "metadata": {},
   "outputs": [
    {
     "name": "stdout",
     "output_type": "stream",
     "text": [
      "original size is 30.953125MB, sparse matrix size is 6.199219MB\n"
     ]
    }
   ],
   "source": [
    "temp = []\n",
    "temp = matrix[0:window,:]\n",
    "# 以列向量为变量，计算各个变量间的协方差矩阵cov\n",
    "cov = np.cov(temp.T)\n",
    "cov[range(len(cov)), range(len(cov))] = 0\n",
    "sortcov = np.array(cov).reshape((cov.size, 1))\n",
    "sortcov.sort(0)\n",
    "# 取协方差为前10%的作为连通图\n",
    "index = sortcov[int(len(sortcov) * 0.9)]\n",
    "mem_1 = process.memory_info().rss\n",
    "if index == 0:\n",
    "    graph = np.where(cov > index, 1, 0).astype(int)\n",
    "else:\n",
    "    graph = np.where(cov >= index, 1, 0).astype(int)\n",
    "mem_2 = process.memory_info().rss\n",
    "g1 = sp.sparse.csc_matrix(graph)\n",
    "mem_3 = process.memory_info().rss\n",
    "osize = mem_2 - mem_1\n",
    "ssize = mem_3 - mem_2\n",
    "print \"original size is %fMB, sparse matrix size is %fMB\"%(osize/1048576.0,ssize/1048576.0)"
   ]
  },
  {
   "cell_type": "markdown",
   "metadata": {},
   "source": [
    "可见生成全部6194个图的邻接矩阵会造成内存溢出,即使使用稀疏矩阵存储也至少需要37.5GB的内存"
   ]
  }
 ],
 "metadata": {
  "kernelspec": {
   "display_name": "Python 2",
   "language": "python",
   "name": "python2"
  },
  "language_info": {
   "codemirror_mode": {
    "name": "ipython",
    "version": 2
   },
   "file_extension": ".py",
   "mimetype": "text/x-python",
   "name": "python",
   "nbconvert_exporter": "python",
   "pygments_lexer": "ipython2",
   "version": "2.7.11"
  }
 },
 "nbformat": 4,
 "nbformat_minor": 2
}
